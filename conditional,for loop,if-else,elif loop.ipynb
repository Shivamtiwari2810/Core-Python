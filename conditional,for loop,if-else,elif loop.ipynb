{
 "cells": [
  {
   "cell_type": "code",
   "execution_count": 8,
   "id": "64109b7a-2606-4816-8039-d33ed74ba506",
   "metadata": {},
   "outputs": [
    {
     "name": "stdout",
     "output_type": "stream",
     "text": [
      "you will be a part of a3 batch\n"
     ]
    }
   ],
   "source": [
    "# conditional statement \n",
    "# (=) is used for assingment and (==) is used to comapre the statement\n",
    "marks = 10\n",
    "if marks >= 80 :\n",
    "    print (\"you will be a part of A1 batch\")\n",
    "elif marks >= 60 and  marks < 80 :\n",
    "    print (\"you will be a part of a1 batch\")\n",
    "elif marks >= 40 and marks < 60 :\n",
    "    print (\"you will be a part of a2 batch\")\n",
    "else :\n",
    "    print(\"you will be a part of a3 batch\")"
   ]
  },
  {
   "cell_type": "code",
   "execution_count": 9,
   "id": "8e6c7713-3278-4939-872d-caaecc1bdaec",
   "metadata": {},
   "outputs": [
    {
     "name": "stdout",
     "output_type": "stream",
     "text": [
      "you will be a part of A1 batch\n"
     ]
    }
   ],
   "source": [
    "marks = 90 \n",
    "if marks >= 80 :\n",
    "    print (\"you will be a part of A1 batch\")\n",
    "elif marks >= 60 and  marks < 80 :\n",
    "    print (\"you will be a part of a1 batch\")\n",
    "elif marks >= 40 and marks < 60 :\n",
    "    print (\"you will be a part of a2 batch\")\n",
    "else :\n",
    "    print(\"you will be a part of a3 batch\")"
   ]
  },
  {
   "cell_type": "code",
   "execution_count": 12,
   "id": "e025f04e-b720-4034-b03c-1d900f1fa0a5",
   "metadata": {},
   "outputs": [
    {
     "name": "stdin",
     "output_type": "stream",
     "text": [
      "enter the number 60\n"
     ]
    },
    {
     "name": "stdout",
     "output_type": "stream",
     "text": [
      "you will be a part of a1 batch\n"
     ]
    }
   ],
   "source": [
    "marks =  int(input(\"enter the number\") )\n",
    "if marks >= 80 :\n",
    "    print (\"you will be a part of A1 batch\")\n",
    "elif marks >= 60 and  marks < 80 :\n",
    "    print (\"you will be a part of a1 batch\")\n",
    "elif marks >= 40 and marks < 60 :\n",
    "    print (\"you will be a part of a2 batch\")\n",
    "else :\n",
    "    print(\"you will be a part of a3 batch\")\n",
    "    "
   ]
  },
  {
   "cell_type": "code",
   "execution_count": 26,
   "id": "62fb240a-16bd-4d25-86be-56e4b6b3f026",
   "metadata": {},
   "outputs": [
    {
     "name": "stdin",
     "output_type": "stream",
     "text": [
      "enter the number 10\n"
     ]
    },
    {
     "name": "stdout",
     "output_type": "stream",
     "text": [
      "i will not purchase\n",
      "its ok\n"
     ]
    }
   ],
   "source": [
    "price = int(input(\"enter the number\"))\n",
    "if price > 1000:\n",
    "    print(\"i will not purchase\")\n",
    "else :\n",
    "    print(\"i will not purchase\")\n",
    "if price > 5000:\n",
    "    print(\"this is too much\")\n",
    "else :\n",
    "    print(\"its ok\")"
   ]
  },
  {
   "cell_type": "code",
   "execution_count": 37,
   "id": "fb669612-71ed-4eec-adfa-3f817ab7c87d",
   "metadata": {},
   "outputs": [],
   "source": [
    "l = [1,2,3,4,5,6,7,8,9]"
   ]
  },
  {
   "cell_type": "code",
   "execution_count": 38,
   "id": "cd43e271-74d2-49e4-a3ad-fc352cf63f2a",
   "metadata": {},
   "outputs": [
    {
     "data": {
      "text/plain": [
       "[1, 2, 3, 4, 5, 6, 7, 8, 9]"
      ]
     },
     "execution_count": 38,
     "metadata": {},
     "output_type": "execute_result"
    }
   ],
   "source": [
    "l"
   ]
  },
  {
   "cell_type": "code",
   "execution_count": 39,
   "id": "587ddfbd-6f29-439b-a839-2ee510a25bba",
   "metadata": {},
   "outputs": [],
   "source": [
    "# Loop\n",
    "\n"
   ]
  },
  {
   "cell_type": "code",
   "execution_count": 41,
   "id": "762982be-37fb-4a3b-a95e-10e03abaf7c9",
   "metadata": {},
   "outputs": [
    {
     "name": "stdout",
     "output_type": "stream",
     "text": [
      "1\n",
      "2\n",
      "3\n",
      "4\n",
      "5\n",
      "6\n",
      "7\n",
      "8\n",
      "9\n"
     ]
    }
   ],
   "source": [
    "for i in l :\n",
    "    print (i)"
   ]
  },
  {
   "cell_type": "code",
   "execution_count": 45,
   "id": "50e0a39d-b504-457a-a53b-e8b5cb95c290",
   "metadata": {},
   "outputs": [
    {
     "name": "stdout",
     "output_type": "stream",
     "text": [
      "2\n",
      "3\n",
      "4\n",
      "5\n",
      "6\n",
      "7\n",
      "8\n",
      "9\n",
      "10\n"
     ]
    }
   ],
   "source": [
    "for i in l :\n",
    "    print (i+1)\n",
    "    l"
   ]
  },
  {
   "cell_type": "code",
   "execution_count": 54,
   "id": "172e1acd-33b7-4d1e-b352-51ebf0d4beae",
   "metadata": {},
   "outputs": [
    {
     "name": "stdout",
     "output_type": "stream",
     "text": [
      "2\n",
      "3\n",
      "4\n",
      "5\n",
      "6\n",
      "7\n",
      "8\n",
      "9\n",
      "10\n"
     ]
    }
   ],
   "source": [
    "l1 = []\n",
    "for i in l:\n",
    "    print(i+1)\n",
    "    l1.append(i+1)"
   ]
  },
  {
   "cell_type": "code",
   "execution_count": 56,
   "id": "14c1a179-57ec-4c3a-a0cc-cb2ed3aee395",
   "metadata": {},
   "outputs": [
    {
     "data": {
      "text/plain": [
       "[2, 3, 4, 5, 6, 7, 8, 9, 10]"
      ]
     },
     "execution_count": 56,
     "metadata": {},
     "output_type": "execute_result"
    }
   ],
   "source": [
    "l1"
   ]
  },
  {
   "cell_type": "code",
   "execution_count": 57,
   "id": "c4d442ca-7718-4656-872c-4fd5b42971c2",
   "metadata": {},
   "outputs": [],
   "source": [
    "l= [\"shivam \" , \"kumar\", \"rahul\" , \"shubham\" , \"kunal\"]"
   ]
  },
  {
   "cell_type": "code",
   "execution_count": 58,
   "id": "13efb196-7208-4333-a3be-6a4d10caf823",
   "metadata": {},
   "outputs": [
    {
     "name": "stdout",
     "output_type": "stream",
     "text": [
      "shivam \n",
      "kumar\n",
      "rahul\n",
      "shubham\n",
      "kunal\n"
     ]
    }
   ],
   "source": [
    "for i in l :\n",
    "    print(i)\n",
    "    "
   ]
  },
  {
   "cell_type": "code",
   "execution_count": 59,
   "id": "121b9e10-d8fb-4f8e-8594-76def895e697",
   "metadata": {},
   "outputs": [
    {
     "name": "stdout",
     "output_type": "stream",
     "text": [
      "shivam \n",
      "kumar\n",
      "rahul\n",
      "shubham\n",
      "kunal\n"
     ]
    }
   ],
   "source": [
    "l1 = []\n",
    "for i in l :\n",
    "    print(i)\n",
    "    l1.append(i.upper())\n",
    "    "
   ]
  },
  {
   "cell_type": "code",
   "execution_count": 60,
   "id": "c0161cea-a906-4029-8ae7-545a9da98cfe",
   "metadata": {},
   "outputs": [
    {
     "data": {
      "text/plain": [
       "['SHIVAM ', 'KUMAR', 'RAHUL', 'SHUBHAM', 'KUNAL']"
      ]
     },
     "execution_count": 60,
     "metadata": {},
     "output_type": "execute_result"
    }
   ],
   "source": [
    "l1"
   ]
  },
  {
   "cell_type": "code",
   "execution_count": 62,
   "id": "b51c99b3-dcfe-4919-b2c5-512cec10a979",
   "metadata": {},
   "outputs": [],
   "source": [
    "l = [1,2,3,4, \"shivam\",255, \"rahul\" ,25555, \"shubham\" , 458.55]"
   ]
  },
  {
   "cell_type": "code",
   "execution_count": 64,
   "id": "b950a9e3-323f-429f-9b1a-d1af0346e37a",
   "metadata": {},
   "outputs": [],
   "source": [
    "l1_num = []\n",
    "l2_str= []\n",
    "for i in l :\n",
    "    if type(i) == int or type(i) == float :\n",
    "        l1_num.append(i)\n",
    "    else :\n",
    "        l2_str.append(i)\n",
    "    "
   ]
  },
  {
   "cell_type": "code",
   "execution_count": 65,
   "id": "1d99d535-1f38-4a23-8a7b-ee66d4bab719",
   "metadata": {},
   "outputs": [
    {
     "data": {
      "text/plain": [
       "[1, 2, 3, 4, 255, 25555, 458.55]"
      ]
     },
     "execution_count": 65,
     "metadata": {},
     "output_type": "execute_result"
    }
   ],
   "source": [
    "l1_num"
   ]
  },
  {
   "cell_type": "code",
   "execution_count": 67,
   "id": "789dec23-e1cf-45fe-b3b2-8cbc40ccfb9a",
   "metadata": {},
   "outputs": [
    {
     "data": {
      "text/plain": [
       "['shivam', 'rahul', 'shubham']"
      ]
     },
     "execution_count": 67,
     "metadata": {},
     "output_type": "execute_result"
    }
   ],
   "source": [
    "l2_str"
   ]
  },
  {
   "cell_type": "code",
   "execution_count": null,
   "id": "2f2c5776-72a5-43ce-9771-787b8b972163",
   "metadata": {},
   "outputs": [],
   "source": []
  }
 ],
 "metadata": {
  "kernelspec": {
   "display_name": "Python 3 (ipykernel)",
   "language": "python",
   "name": "python3"
  },
  "language_info": {
   "codemirror_mode": {
    "name": "ipython",
    "version": 3
   },
   "file_extension": ".py",
   "mimetype": "text/x-python",
   "name": "python",
   "nbconvert_exporter": "python",
   "pygments_lexer": "ipython3",
   "version": "3.10.8"
  }
 },
 "nbformat": 4,
 "nbformat_minor": 5
}
