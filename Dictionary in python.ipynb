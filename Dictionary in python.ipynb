{
 "cells": [
  {
   "cell_type": "code",
   "execution_count": 1,
   "id": "02503018-cdb9-46ff-813c-d916a83013d4",
   "metadata": {},
   "outputs": [],
   "source": [
    "#Dictionary Dictionaries are used to store data values in key:value pairs. A dictionary is a collection which is ordered*, changeable and does not allow duplicates. \n",
    "# creating dict data type\n",
    "d = {}\n",
    "# this is blank dict"
   ]
  },
  {
   "cell_type": "code",
   "execution_count": 2,
   "id": "a89fe518-48ce-4e7e-b84f-3895a5eb8882",
   "metadata": {},
   "outputs": [
    {
     "data": {
      "text/plain": [
       "dict"
      ]
     },
     "execution_count": 2,
     "metadata": {},
     "output_type": "execute_result"
    }
   ],
   "source": [
    "type(d)"
   ]
  },
  {
   "cell_type": "code",
   "execution_count": 3,
   "id": "8bc0b522-168b-4db6-b3a3-8cd2de67a68c",
   "metadata": {},
   "outputs": [],
   "source": [
    "d1 = {\"key\" : \"shivam\"}"
   ]
  },
  {
   "cell_type": "code",
   "execution_count": 4,
   "id": "95622c05-7ae1-41a6-8f88-b965d1521675",
   "metadata": {},
   "outputs": [
    {
     "data": {
      "text/plain": [
       "{'key': 'shivam'}"
      ]
     },
     "execution_count": 4,
     "metadata": {},
     "output_type": "execute_result"
    }
   ],
   "source": [
    "d1"
   ]
  },
  {
   "cell_type": "code",
   "execution_count": 5,
   "id": "424125d6-63ed-4ff0-b1aa-12bbd527ce2c",
   "metadata": {},
   "outputs": [
    {
     "data": {
      "text/plain": [
       "dict"
      ]
     },
     "execution_count": 5,
     "metadata": {},
     "output_type": "execute_result"
    }
   ],
   "source": [
    "type(d1)"
   ]
  },
  {
   "cell_type": "code",
   "execution_count": 7,
   "id": "8b22ab1b-3af4-42e5-9be5-8aedf2010012",
   "metadata": {},
   "outputs": [],
   "source": [
    "d2 = {\"name\" : \"shivam\" , \"email id\" : \"shivamtiwari2810@gmail.com\",\"number\" : 145255}"
   ]
  },
  {
   "cell_type": "code",
   "execution_count": 8,
   "id": "76604284-5a7b-4254-89db-bdb33de15c79",
   "metadata": {},
   "outputs": [
    {
     "data": {
      "text/plain": [
       "{'name': 'shivam', 'email id': 'shivamtiwari2810@gmail.com', 'number': 145255}"
      ]
     },
     "execution_count": 8,
     "metadata": {},
     "output_type": "execute_result"
    }
   ],
   "source": [
    "d2"
   ]
  },
  {
   "cell_type": "code",
   "execution_count": 12,
   "id": "252ccb86-ee09-42f3-b94f-d05480466882",
   "metadata": {},
   "outputs": [],
   "source": [
    "d3 = { 1122 : \"shivam\" , '_surname' : \"tiwari\",True :15555}"
   ]
  },
  {
   "cell_type": "code",
   "execution_count": 13,
   "id": "960d487f-7d7b-45b2-b351-d5e0211162ff",
   "metadata": {},
   "outputs": [
    {
     "data": {
      "text/plain": [
       "{1122: 'shivam', '_surname': 'tiwari', True: 15555}"
      ]
     },
     "execution_count": 13,
     "metadata": {},
     "output_type": "execute_result"
    }
   ],
   "source": [
    "d3\n"
   ]
  },
  {
   "cell_type": "code",
   "execution_count": 14,
   "id": "9ebc356c-5742-4c58-9949-268278ebac37",
   "metadata": {},
   "outputs": [
    {
     "data": {
      "text/plain": [
       "15555"
      ]
     },
     "execution_count": 14,
     "metadata": {},
     "output_type": "execute_result"
    }
   ],
   "source": [
    "d3[1]"
   ]
  },
  {
   "cell_type": "code",
   "execution_count": 5,
   "id": "56c6e30a-2121-47d3-a531-1c65953a987f",
   "metadata": {},
   "outputs": [
    {
     "data": {
      "text/plain": [
       "15555"
      ]
     },
     "execution_count": 5,
     "metadata": {},
     "output_type": "execute_result"
    }
   ],
   "source": [
    "d3[True]"
   ]
  },
  {
   "cell_type": "code",
   "execution_count": 15,
   "id": "fd3f3f33-d039-490e-b097-68aa1fa50c9c",
   "metadata": {},
   "outputs": [],
   "source": [
    "d4 = {\"name\" : \"shivam\", \"mail_id\" : \"shivamtijshdjs@fdjh\" , \"name\" : \"shiv\"}\n",
    "# key should be unique"
   ]
  },
  {
   "cell_type": "code",
   "execution_count": 16,
   "id": "0b7e5baa-b95c-422d-a938-b8164f8fa887",
   "metadata": {},
   "outputs": [
    {
     "data": {
      "text/plain": [
       "{'name': 'shiv', 'mail_id': 'shivamtijshdjs@fdjh'}"
      ]
     },
     "execution_count": 16,
     "metadata": {},
     "output_type": "execute_result"
    }
   ],
   "source": [
    "d4"
   ]
  },
  {
   "cell_type": "code",
   "execution_count": 18,
   "id": "4e6b00c7-433a-4c8d-9329-7d48f9b0f5b6",
   "metadata": {},
   "outputs": [
    {
     "data": {
      "text/plain": [
       "'shiv'"
      ]
     },
     "execution_count": 18,
     "metadata": {},
     "output_type": "execute_result"
    }
   ],
   "source": [
    "d4['name']"
   ]
  },
  {
   "cell_type": "code",
   "execution_count": 19,
   "id": "407cbeeb-85ef-4cfd-be96-dd50db7711a2",
   "metadata": {},
   "outputs": [],
   "source": [
    "d5 = {\"company\" : \"pwskills\" , \"course\" : [\"data science\",\"java\",\"c++\"]}\n",
    "# using the list in dict"
   ]
  },
  {
   "cell_type": "code",
   "execution_count": 20,
   "id": "e44cae8b-39ae-4d89-92bf-89d310605201",
   "metadata": {},
   "outputs": [
    {
     "data": {
      "text/plain": [
       "{'company': 'pwskills', 'course': ['data science', 'java', 'c++']}"
      ]
     },
     "execution_count": 20,
     "metadata": {},
     "output_type": "execute_result"
    }
   ],
   "source": [
    "d5"
   ]
  },
  {
   "cell_type": "code",
   "execution_count": 21,
   "id": "a38c29d7-50b8-4407-8b97-576631c883d6",
   "metadata": {},
   "outputs": [],
   "source": [
    "d6 = {\"number\" : [1,2,5,2,5,25] , \"assignment\" : (2,5,5,5,5,5) , }\n",
    "# using list and tuple in dict"
   ]
  },
  {
   "cell_type": "code",
   "execution_count": 22,
   "id": "a6c91ad9-1977-4517-b3ac-d9b86ef0b1d7",
   "metadata": {},
   "outputs": [
    {
     "data": {
      "text/plain": [
       "{'number': [1, 2, 5, 2, 5, 25], 'assignment': (2, 5, 5, 5, 5, 5)}"
      ]
     },
     "execution_count": 22,
     "metadata": {},
     "output_type": "execute_result"
    }
   ],
   "source": [
    "d6"
   ]
  },
  {
   "cell_type": "code",
   "execution_count": 24,
   "id": "95eff52f-5ee9-4074-af75-487f73082488",
   "metadata": {},
   "outputs": [
    {
     "data": {
      "text/plain": [
       "[1, 2, 5, 2, 5, 25]"
      ]
     },
     "execution_count": 24,
     "metadata": {},
     "output_type": "execute_result"
    }
   ],
   "source": [
    "d6['number']"
   ]
  },
  {
   "cell_type": "code",
   "execution_count": 26,
   "id": "a553aca1-0b72-45de-b02b-395deb4744e8",
   "metadata": {},
   "outputs": [],
   "source": [
    "# here we are using dict ,list tuple \n",
    "d6 = {\"number\" : [1,2,5,2,5,25] , \"assignment\" : (2,5,5,5,5,5) , \"launch_date\" : (28,12,14), \"class_time\" :{\"web dev\": 8 , \"data science\":6 } }"
   ]
  },
  {
   "cell_type": "code",
   "execution_count": 27,
   "id": "ca9bd950-437b-4da0-b9e6-c2748c826d36",
   "metadata": {},
   "outputs": [
    {
     "data": {
      "text/plain": [
       "{'number': [1, 2, 5, 2, 5, 25],\n",
       " 'assignment': (2, 5, 5, 5, 5, 5),\n",
       " 'launch_date': (28, 12, 14),\n",
       " 'class_time': {'web dev': 8, 'data science': 6}}"
      ]
     },
     "execution_count": 27,
     "metadata": {},
     "output_type": "execute_result"
    }
   ],
   "source": [
    "d6"
   ]
  },
  {
   "cell_type": "code",
   "execution_count": 28,
   "id": "92974f78-55cb-4741-912b-0699b9ad1eb2",
   "metadata": {},
   "outputs": [
    {
     "data": {
      "text/plain": [
       "{'web dev': 8, 'data science': 6}"
      ]
     },
     "execution_count": 28,
     "metadata": {},
     "output_type": "execute_result"
    }
   ],
   "source": [
    "d6['class_time']"
   ]
  },
  {
   "cell_type": "code",
   "execution_count": 29,
   "id": "93865392-4bf6-485e-989a-f6fa18059753",
   "metadata": {},
   "outputs": [
    {
     "data": {
      "text/plain": [
       "6"
      ]
     },
     "execution_count": 29,
     "metadata": {},
     "output_type": "execute_result"
    }
   ],
   "source": [
    "d6['class_time'][\"data science\"]"
   ]
  },
  {
   "cell_type": "code",
   "execution_count": 30,
   "id": "294e4780-94a8-4564-a0a1-232f63c6df67",
   "metadata": {},
   "outputs": [],
   "source": [
    "d6['mentor'] = [\"rahul\",\"deepak\" , \"shubham\"]\n",
    "# adding new list in dict"
   ]
  },
  {
   "cell_type": "code",
   "execution_count": 31,
   "id": "fd7024d0-a4cb-444a-90d6-0f32a782839c",
   "metadata": {},
   "outputs": [
    {
     "data": {
      "text/plain": [
       "{'number': [1, 2, 5, 2, 5, 25],\n",
       " 'assignment': (2, 5, 5, 5, 5, 5),\n",
       " 'launch_date': (28, 12, 14),\n",
       " 'class_time': {'web dev': 8, 'data science': 6},\n",
       " 'mentor': ['rahul', 'deepak', 'shubham']}"
      ]
     },
     "execution_count": 31,
     "metadata": {},
     "output_type": "execute_result"
    }
   ],
   "source": [
    "d6"
   ]
  },
  {
   "cell_type": "code",
   "execution_count": 32,
   "id": "d156b473-77da-47ea-93c4-054d41ba7009",
   "metadata": {},
   "outputs": [],
   "source": [
    "del d6['number']\n",
    "#deleting the keys name  \"number\" in dict"
   ]
  },
  {
   "cell_type": "code",
   "execution_count": 33,
   "id": "684e3eeb-1b4d-4a9a-8775-52752b9e0346",
   "metadata": {},
   "outputs": [
    {
     "data": {
      "text/plain": [
       "{'assignment': (2, 5, 5, 5, 5, 5),\n",
       " 'launch_date': (28, 12, 14),\n",
       " 'class_time': {'web dev': 8, 'data science': 6},\n",
       " 'mentor': ['rahul', 'deepak', 'shubham']}"
      ]
     },
     "execution_count": 33,
     "metadata": {},
     "output_type": "execute_result"
    }
   ],
   "source": [
    "d6"
   ]
  },
  {
   "cell_type": "code",
   "execution_count": 34,
   "id": "55f25b0b-2b1c-4e92-aebd-7766b2346343",
   "metadata": {},
   "outputs": [
    {
     "data": {
      "text/plain": [
       "[(2, 5, 5, 5, 5, 5),\n",
       " (28, 12, 14),\n",
       " {'web dev': 8, 'data science': 6},\n",
       " ['rahul', 'deepak', 'shubham']]"
      ]
     },
     "execution_count": 34,
     "metadata": {},
     "output_type": "execute_result"
    }
   ],
   "source": [
    "list(d6.values())\n",
    "# checking the value of d6"
   ]
  },
  {
   "cell_type": "code",
   "execution_count": 35,
   "id": "d64c6b07-3231-4317-b0a2-93c60ac1519d",
   "metadata": {},
   "outputs": [
    {
     "data": {
      "text/plain": [
       "['assignment', 'launch_date', 'class_time', 'mentor']"
      ]
     },
     "execution_count": 35,
     "metadata": {},
     "output_type": "execute_result"
    }
   ],
   "source": [
    "list(d6.keys())"
   ]
  },
  {
   "cell_type": "code",
   "execution_count": 36,
   "id": "aefba153-401c-4b6e-b2e5-1d3bcf83423e",
   "metadata": {},
   "outputs": [
    {
     "data": {
      "text/plain": [
       "[('assignment', (2, 5, 5, 5, 5, 5)),\n",
       " ('launch_date', (28, 12, 14)),\n",
       " ('class_time', {'web dev': 8, 'data science': 6}),\n",
       " ('mentor', ['rahul', 'deepak', 'shubham'])]"
      ]
     },
     "execution_count": 36,
     "metadata": {},
     "output_type": "execute_result"
    }
   ],
   "source": [
    "list(d6.items())"
   ]
  },
  {
   "cell_type": "code",
   "execution_count": 38,
   "id": "0789a1e4-3576-46ea-8b08-aad36173ec0d",
   "metadata": {},
   "outputs": [
    {
     "data": {
      "text/plain": [
       "['rahul', 'deepak', 'shubham']"
      ]
     },
     "execution_count": 38,
     "metadata": {},
     "output_type": "execute_result"
    }
   ],
   "source": [
    "d6.pop('mentor')"
   ]
  },
  {
   "cell_type": "code",
   "execution_count": 39,
   "id": "12f766e9-5293-4e37-8bb8-f580af8baacf",
   "metadata": {},
   "outputs": [
    {
     "data": {
      "text/plain": [
       "{'assignment': (2, 5, 5, 5, 5, 5),\n",
       " 'launch_date': (28, 12, 14),\n",
       " 'class_time': {'web dev': 8, 'data science': 6}}"
      ]
     },
     "execution_count": 39,
     "metadata": {},
     "output_type": "execute_result"
    }
   ],
   "source": [
    "d6"
   ]
  },
  {
   "cell_type": "code",
   "execution_count": null,
   "id": "a2459686-f482-4bbf-b8da-913b36e5554d",
   "metadata": {},
   "outputs": [],
   "source": [
    "#dict is mutable"
   ]
  }
 ],
 "metadata": {
  "kernelspec": {
   "display_name": "Python 3 (ipykernel)",
   "language": "python",
   "name": "python3"
  },
  "language_info": {
   "codemirror_mode": {
    "name": "ipython",
    "version": 3
   },
   "file_extension": ".py",
   "mimetype": "text/x-python",
   "name": "python",
   "nbconvert_exporter": "python",
   "pygments_lexer": "ipython3",
   "version": "3.10.8"
  }
 },
 "nbformat": 4,
 "nbformat_minor": 5
}
