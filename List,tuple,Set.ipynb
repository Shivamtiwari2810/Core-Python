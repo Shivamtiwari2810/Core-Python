{
 "cells": [
  {
   "cell_type": "code",
   "execution_count": 1,
   "id": "dfd717d6-847b-4f96-9191-f0561e86a274",
   "metadata": {},
   "outputs": [],
   "source": [
    "# list data type\n",
    "#Lists are used to store multiple items in a single variable\n",
    "\n",
    "l = [1,2,3,4,5,\"shivam\",True ,5+8j ,32.56]\n",
    "#list variable"
   ]
  },
  {
   "cell_type": "code",
   "execution_count": 5,
   "id": "ff1fb980-b64a-480e-905c-bbe564798617",
   "metadata": {},
   "outputs": [
    {
     "data": {
      "text/plain": [
       "list"
      ]
     },
     "execution_count": 5,
     "metadata": {},
     "output_type": "execute_result"
    }
   ],
   "source": [
    "type(l)"
   ]
  },
  {
   "cell_type": "code",
   "execution_count": 6,
   "id": "649f1783-79ee-46ed-804f-b1aaac9e049b",
   "metadata": {},
   "outputs": [
    {
     "data": {
      "text/plain": [
       "1"
      ]
     },
     "execution_count": 6,
     "metadata": {},
     "output_type": "execute_result"
    }
   ],
   "source": [
    "#apply sliceing and indexing in list\n",
    "l[0]"
   ]
  },
  {
   "cell_type": "code",
   "execution_count": 7,
   "id": "e217cb75-7fef-4246-b6d1-701ed98e844a",
   "metadata": {},
   "outputs": [
    {
     "data": {
      "text/plain": [
       "'shivam'"
      ]
     },
     "execution_count": 7,
     "metadata": {},
     "output_type": "execute_result"
    }
   ],
   "source": [
    "l[5]"
   ]
  },
  {
   "cell_type": "code",
   "execution_count": 9,
   "id": "230d4f61-a08c-4605-9bfd-abb29f2b4bb4",
   "metadata": {},
   "outputs": [
    {
     "data": {
      "text/plain": [
       "[1, 2, 3, 4, 5, 'shivam', True, (5+8j), 32.56]"
      ]
     },
     "execution_count": 9,
     "metadata": {},
     "output_type": "execute_result"
    }
   ],
   "source": [
    "l"
   ]
  },
  {
   "cell_type": "code",
   "execution_count": 10,
   "id": "0bfbfeeb-caac-4592-bec3-a95905864b6a",
   "metadata": {},
   "outputs": [
    {
     "data": {
      "text/plain": [
       "[1, 2, 3, 4]"
      ]
     },
     "execution_count": 10,
     "metadata": {},
     "output_type": "execute_result"
    }
   ],
   "source": [
    "l[0:4]"
   ]
  },
  {
   "cell_type": "code",
   "execution_count": 11,
   "id": "0f2c567c-b692-4cd4-90d0-26a0f524bb4a",
   "metadata": {},
   "outputs": [
    {
     "data": {
      "text/plain": [
       "32.56"
      ]
     },
     "execution_count": 11,
     "metadata": {},
     "output_type": "execute_result"
    }
   ],
   "source": [
    "l[-1]"
   ]
  },
  {
   "cell_type": "code",
   "execution_count": 12,
   "id": "00617f7b-1f04-412c-aa89-a22a73f3c453",
   "metadata": {},
   "outputs": [
    {
     "data": {
      "text/plain": [
       "[32.56, (5+8j), True, 'shivam', 5, 4, 3, 2, 1]"
      ]
     },
     "execution_count": 12,
     "metadata": {},
     "output_type": "execute_result"
    }
   ],
   "source": [
    "l[::-1]\n",
    "#reverse direction of list"
   ]
  },
  {
   "cell_type": "code",
   "execution_count": 13,
   "id": "f84d22bf-4a96-456d-87d1-d624f3510f5c",
   "metadata": {},
   "outputs": [
    {
     "data": {
      "text/plain": [
       "[1, 3, 5, True, 32.56]"
      ]
     },
     "execution_count": 13,
     "metadata": {},
     "output_type": "execute_result"
    }
   ],
   "source": [
    "#even index \n",
    "l[::2]"
   ]
  },
  {
   "cell_type": "code",
   "execution_count": 14,
   "id": "5e462728-0262-4f65-a879-3d53d8a7df6a",
   "metadata": {},
   "outputs": [
    {
     "data": {
      "text/plain": [
       "[1, 2, 3, 4, 5, 'shivam', True, (5+8j), 32.56]"
      ]
     },
     "execution_count": 14,
     "metadata": {},
     "output_type": "execute_result"
    }
   ],
   "source": [
    "l"
   ]
  },
  {
   "cell_type": "code",
   "execution_count": 15,
   "id": "4fd0275f-8249-45fb-8912-67b76a39352a",
   "metadata": {},
   "outputs": [],
   "source": [
    "s = \"shivam\""
   ]
  },
  {
   "cell_type": "code",
   "execution_count": 16,
   "id": "d6ae5e7a-9950-4d9c-86e9-7284ca81e00d",
   "metadata": {},
   "outputs": [
    {
     "ename": "TypeError",
     "evalue": "can only concatenate list (not \"str\") to list",
     "output_type": "error",
     "traceback": [
      "\u001b[0;31m---------------------------------------------------------------------------\u001b[0m",
      "\u001b[0;31mTypeError\u001b[0m                                 Traceback (most recent call last)",
      "Cell \u001b[0;32mIn[16], line 1\u001b[0m\n\u001b[0;32m----> 1\u001b[0m \u001b[43ml\u001b[49m\u001b[43m \u001b[49m\u001b[38;5;241;43m+\u001b[39;49m\u001b[43m \u001b[49m\u001b[43ms\u001b[49m\n",
      "\u001b[0;31mTypeError\u001b[0m: can only concatenate list (not \"str\") to list"
     ]
    }
   ],
   "source": [
    "l + s"
   ]
  },
  {
   "cell_type": "code",
   "execution_count": 17,
   "id": "7d0b6589-29fb-49e8-9f24-2a218213addd",
   "metadata": {},
   "outputs": [
    {
     "data": {
      "text/plain": [
       "['s', 'h', 'i', 'v', 'a', 'm']"
      ]
     },
     "execution_count": 17,
     "metadata": {},
     "output_type": "execute_result"
    }
   ],
   "source": [
    "list(s)"
   ]
  },
  {
   "cell_type": "code",
   "execution_count": 18,
   "id": "0f404547-c87b-4c24-9c01-8c47c456837e",
   "metadata": {},
   "outputs": [
    {
     "data": {
      "text/plain": [
       "['s', 'h', 'i', 'v', 'a', 'm', 1, 2, 3, 4, 5, 'shivam', True, (5+8j), 32.56]"
      ]
     },
     "execution_count": 18,
     "metadata": {},
     "output_type": "execute_result"
    }
   ],
   "source": [
    "list(s) +l"
   ]
  },
  {
   "cell_type": "code",
   "execution_count": 19,
   "id": "81881015-8dda-4dd4-bcdc-a46ca43dc992",
   "metadata": {},
   "outputs": [
    {
     "data": {
      "text/plain": [
       "[1, 2, 3, 4, 5, 'shivam', True, (5+8j), 32.56]"
      ]
     },
     "execution_count": 19,
     "metadata": {},
     "output_type": "execute_result"
    }
   ],
   "source": [
    "l"
   ]
  },
  {
   "cell_type": "code",
   "execution_count": 20,
   "id": "680bf4cc-f107-463c-ba42-e70db257f3a0",
   "metadata": {},
   "outputs": [
    {
     "data": {
      "text/plain": [
       "'shivam'"
      ]
     },
     "execution_count": 20,
     "metadata": {},
     "output_type": "execute_result"
    }
   ],
   "source": [
    "l[5]"
   ]
  },
  {
   "cell_type": "code",
   "execution_count": 22,
   "id": "d2ec0ba4-9702-4216-b5ad-3c25aa950bfb",
   "metadata": {},
   "outputs": [
    {
     "data": {
      "text/plain": [
       "'sh'"
      ]
     },
     "execution_count": 22,
     "metadata": {},
     "output_type": "execute_result"
    }
   ],
   "source": [
    "l[5][0:2]"
   ]
  },
  {
   "cell_type": "code",
   "execution_count": 23,
   "id": "d9da39e3-5572-4053-8751-1a0798e38843",
   "metadata": {},
   "outputs": [
    {
     "data": {
      "text/plain": [
       "True"
      ]
     },
     "execution_count": 23,
     "metadata": {},
     "output_type": "execute_result"
    }
   ],
   "source": [
    "l[6]"
   ]
  },
  {
   "cell_type": "code",
   "execution_count": 28,
   "id": "850cfdb1-0f6f-42e4-92d0-debb78839808",
   "metadata": {},
   "outputs": [
    {
     "data": {
      "text/plain": [
       "'shi'"
      ]
     },
     "execution_count": 28,
     "metadata": {},
     "output_type": "execute_result"
    }
   ],
   "source": [
    "str(l[5])[:3]"
   ]
  },
  {
   "cell_type": "code",
   "execution_count": 29,
   "id": "8ffd5f5f-9605-46bd-9d55-4b4a858defd3",
   "metadata": {},
   "outputs": [],
   "source": [
    "l1 = [3,5,6]"
   ]
  },
  {
   "cell_type": "code",
   "execution_count": 30,
   "id": "e0889d82-72fc-4290-8a8b-9718de7987e7",
   "metadata": {},
   "outputs": [
    {
     "data": {
      "text/plain": [
       "[1, 2, 3, 4, 5, 'shivam', True, (5+8j), 32.56, 3, 5, 6]"
      ]
     },
     "execution_count": 30,
     "metadata": {},
     "output_type": "execute_result"
    }
   ],
   "source": [
    "l+l1"
   ]
  },
  {
   "cell_type": "code",
   "execution_count": 32,
   "id": "9df230d2-02a1-4e36-ad21-e277cfc8b4e0",
   "metadata": {},
   "outputs": [
    {
     "data": {
      "text/plain": [
       "[3, 5, 6, 3, 5, 6, 3, 5, 6]"
      ]
     },
     "execution_count": 32,
     "metadata": {},
     "output_type": "execute_result"
    }
   ],
   "source": [
    "l1 * 3"
   ]
  },
  {
   "cell_type": "code",
   "execution_count": 33,
   "id": "451cdfb9-b9d5-4ef2-8f39-83a88b601f11",
   "metadata": {},
   "outputs": [
    {
     "data": {
      "text/plain": [
       "[1, 2, 3, 4, 5, 'shivam', True, (5+8j), 32.56]"
      ]
     },
     "execution_count": 33,
     "metadata": {},
     "output_type": "execute_result"
    }
   ],
   "source": [
    "l"
   ]
  },
  {
   "cell_type": "code",
   "execution_count": 34,
   "id": "3ad803de-89bb-491b-bc4a-7767c33818ec",
   "metadata": {},
   "outputs": [
    {
     "data": {
      "text/plain": [
       "9"
      ]
     },
     "execution_count": 34,
     "metadata": {},
     "output_type": "execute_result"
    }
   ],
   "source": [
    "len(l)"
   ]
  },
  {
   "cell_type": "code",
   "execution_count": 35,
   "id": "7fb07d20-cf10-40c9-acd8-a486e4b81ba2",
   "metadata": {},
   "outputs": [
    {
     "data": {
      "text/plain": [
       "[1, 2, 3, 4, 5, 'shivam', True, (5+8j), 32.56]"
      ]
     },
     "execution_count": 35,
     "metadata": {},
     "output_type": "execute_result"
    }
   ],
   "source": [
    "l"
   ]
  },
  {
   "cell_type": "code",
   "execution_count": 36,
   "id": "14baa169-82cb-4218-bc62-52edc50714a7",
   "metadata": {},
   "outputs": [],
   "source": [
    "#Useing append function\n",
    "# about the meaning  of append() press shift+tab \n",
    "\n",
    "l.append(5)\n"
   ]
  },
  {
   "cell_type": "code",
   "execution_count": 37,
   "id": "1b1c18bc-8758-41bc-829d-51ccd59c7cca",
   "metadata": {},
   "outputs": [
    {
     "data": {
      "text/plain": [
       "[1, 2, 3, 4, 5, 'shivam', True, (5+8j), 32.56, 5]"
      ]
     },
     "execution_count": 37,
     "metadata": {},
     "output_type": "execute_result"
    }
   ],
   "source": [
    "l"
   ]
  },
  {
   "cell_type": "code",
   "execution_count": 38,
   "id": "88c9707e-c3fc-4e91-b401-729808329155",
   "metadata": {},
   "outputs": [
    {
     "data": {
      "text/plain": [
       "'shivam'"
      ]
     },
     "execution_count": 38,
     "metadata": {},
     "output_type": "execute_result"
    }
   ],
   "source": [
    "s"
   ]
  },
  {
   "cell_type": "code",
   "execution_count": 39,
   "id": "f80ea60a-24af-43c9-bee3-f6391248d75d",
   "metadata": {},
   "outputs": [],
   "source": [
    "l.append(s)"
   ]
  },
  {
   "cell_type": "code",
   "execution_count": 40,
   "id": "f87dbfb0-fa63-444c-a393-661950a247a3",
   "metadata": {},
   "outputs": [
    {
     "data": {
      "text/plain": [
       "[1, 2, 3, 4, 5, 'shivam', True, (5+8j), 32.56, 5, 'shivam']"
      ]
     },
     "execution_count": 40,
     "metadata": {},
     "output_type": "execute_result"
    }
   ],
   "source": [
    "l"
   ]
  },
  {
   "cell_type": "code",
   "execution_count": 41,
   "id": "b7bcd64a-08e7-4460-9af2-4f5daf591e1b",
   "metadata": {},
   "outputs": [
    {
     "data": {
      "text/plain": [
       "[3, 5, 6]"
      ]
     },
     "execution_count": 41,
     "metadata": {},
     "output_type": "execute_result"
    }
   ],
   "source": [
    "l1"
   ]
  },
  {
   "cell_type": "code",
   "execution_count": 42,
   "id": "ac192e4e-ee7d-4239-99a1-df89ec8748a7",
   "metadata": {},
   "outputs": [],
   "source": [
    "l.append(l1)"
   ]
  },
  {
   "cell_type": "code",
   "execution_count": 43,
   "id": "0975c14e-93d1-4b5b-8c2c-2fb63d5e668e",
   "metadata": {},
   "outputs": [
    {
     "data": {
      "text/plain": [
       "[1, 2, 3, 4, 5, 'shivam', True, (5+8j), 32.56, 5, 'shivam', [3, 5, 6]]"
      ]
     },
     "execution_count": 43,
     "metadata": {},
     "output_type": "execute_result"
    }
   ],
   "source": [
    "l"
   ]
  },
  {
   "cell_type": "code",
   "execution_count": 44,
   "id": "0b5c098c-1a18-4c5a-8d39-657d15f3f32c",
   "metadata": {},
   "outputs": [
    {
     "data": {
      "text/plain": [
       "[3, 5, 6]"
      ]
     },
     "execution_count": 44,
     "metadata": {},
     "output_type": "execute_result"
    }
   ],
   "source": [
    "l[-1]"
   ]
  },
  {
   "cell_type": "code",
   "execution_count": 46,
   "id": "842510b1-0507-4bc2-8ff6-5e3ad3343d12",
   "metadata": {},
   "outputs": [
    {
     "data": {
      "text/plain": [
       "3"
      ]
     },
     "execution_count": 46,
     "metadata": {},
     "output_type": "execute_result"
    }
   ],
   "source": [
    "l[-1][0]"
   ]
  },
  {
   "cell_type": "code",
   "execution_count": 47,
   "id": "b2b838f4-54f5-45c7-a060-c2cb6253fc10",
   "metadata": {},
   "outputs": [
    {
     "data": {
      "text/plain": [
       "[1, 2, 3, 4, 5, 'shivam', True, (5+8j), 32.56, 5, 'shivam', [3, 5, 6]]"
      ]
     },
     "execution_count": 47,
     "metadata": {},
     "output_type": "execute_result"
    }
   ],
   "source": [
    "#extend() function\n",
    "l"
   ]
  },
  {
   "cell_type": "code",
   "execution_count": 48,
   "id": "1ef95e9f-b201-444b-bb74-39c0dbe2691e",
   "metadata": {},
   "outputs": [
    {
     "ename": "TypeError",
     "evalue": "'int' object is not iterable",
     "output_type": "error",
     "traceback": [
      "\u001b[0;31m---------------------------------------------------------------------------\u001b[0m",
      "\u001b[0;31mTypeError\u001b[0m                                 Traceback (most recent call last)",
      "Cell \u001b[0;32mIn[48], line 1\u001b[0m\n\u001b[0;32m----> 1\u001b[0m \u001b[43ml\u001b[49m\u001b[38;5;241;43m.\u001b[39;49m\u001b[43mextend\u001b[49m\u001b[43m(\u001b[49m\u001b[38;5;241;43m4\u001b[39;49m\u001b[43m)\u001b[49m\n",
      "\u001b[0;31mTypeError\u001b[0m: 'int' object is not iterable"
     ]
    }
   ],
   "source": [
    "l.extend(4)"
   ]
  },
  {
   "cell_type": "code",
   "execution_count": 49,
   "id": "29891a9b-1f42-4599-bad8-32e38a00c291",
   "metadata": {},
   "outputs": [],
   "source": [
    "l.extend(\"rahul\")"
   ]
  },
  {
   "cell_type": "code",
   "execution_count": 50,
   "id": "c8375346-d913-4e6b-b178-41d64239efd3",
   "metadata": {},
   "outputs": [
    {
     "data": {
      "text/plain": [
       "[1,\n",
       " 2,\n",
       " 3,\n",
       " 4,\n",
       " 5,\n",
       " 'shivam',\n",
       " True,\n",
       " (5+8j),\n",
       " 32.56,\n",
       " 5,\n",
       " 'shivam',\n",
       " [3, 5, 6],\n",
       " 'r',\n",
       " 'a',\n",
       " 'h',\n",
       " 'u',\n",
       " 'l']"
      ]
     },
     "execution_count": 50,
     "metadata": {},
     "output_type": "execute_result"
    }
   ],
   "source": [
    "l"
   ]
  },
  {
   "cell_type": "code",
   "execution_count": 51,
   "id": "bae4ad68-638d-4ff6-bce6-c7d19c6b6c8f",
   "metadata": {},
   "outputs": [],
   "source": [
    "l.extend([1,2,3])"
   ]
  },
  {
   "cell_type": "code",
   "execution_count": 52,
   "id": "84b1d5b0-5554-4238-b3a1-cbb66bba823c",
   "metadata": {},
   "outputs": [
    {
     "data": {
      "text/plain": [
       "[1,\n",
       " 2,\n",
       " 3,\n",
       " 4,\n",
       " 5,\n",
       " 'shivam',\n",
       " True,\n",
       " (5+8j),\n",
       " 32.56,\n",
       " 5,\n",
       " 'shivam',\n",
       " [3, 5, 6],\n",
       " 'r',\n",
       " 'a',\n",
       " 'h',\n",
       " 'u',\n",
       " 'l',\n",
       " 1,\n",
       " 2,\n",
       " 3]"
      ]
     },
     "execution_count": 52,
     "metadata": {},
     "output_type": "execute_result"
    }
   ],
   "source": [
    "l"
   ]
  },
  {
   "cell_type": "code",
   "execution_count": 53,
   "id": "9fa04c1c-a13b-4ac0-ab70-08accd24bbbe",
   "metadata": {},
   "outputs": [
    {
     "data": {
      "text/plain": [
       "[3, 5, 6]"
      ]
     },
     "execution_count": 53,
     "metadata": {},
     "output_type": "execute_result"
    }
   ],
   "source": [
    "l1"
   ]
  },
  {
   "cell_type": "code",
   "execution_count": 54,
   "id": "795e825e-97e0-4f98-b67d-308fca7e874e",
   "metadata": {},
   "outputs": [],
   "source": [
    "# insert function\n",
    "l1.insert(1,\"shivam\")"
   ]
  },
  {
   "cell_type": "code",
   "execution_count": 55,
   "id": "12ffd1cb-5131-420e-8ccb-af32fe26a883",
   "metadata": {},
   "outputs": [
    {
     "data": {
      "text/plain": [
       "[3, 'shivam', 5, 6]"
      ]
     },
     "execution_count": 55,
     "metadata": {},
     "output_type": "execute_result"
    }
   ],
   "source": [
    "l1"
   ]
  },
  {
   "cell_type": "code",
   "execution_count": 58,
   "id": "3b0daf87-e916-4b26-aa2d-26579dcc4632",
   "metadata": {},
   "outputs": [],
   "source": [
    "l1.insert(0,[0000])"
   ]
  },
  {
   "cell_type": "code",
   "execution_count": 59,
   "id": "a127fbc4-db76-46af-83d7-6c3be2192d1f",
   "metadata": {},
   "outputs": [
    {
     "data": {
      "text/plain": [
       "[[0], 3, 'shivam', 5, 6]"
      ]
     },
     "execution_count": 59,
     "metadata": {},
     "output_type": "execute_result"
    }
   ],
   "source": [
    "l1"
   ]
  },
  {
   "cell_type": "code",
   "execution_count": 60,
   "id": "2180d3d1-67a7-47e6-8bc0-3e7ad87c14d5",
   "metadata": {},
   "outputs": [],
   "source": [
    "l1.insert(-1,\"deepak\")"
   ]
  },
  {
   "cell_type": "code",
   "execution_count": 61,
   "id": "64a6afb9-49b7-499b-a4eb-f79c2f7105af",
   "metadata": {},
   "outputs": [
    {
     "data": {
      "text/plain": [
       "[[0], 3, 'shivam', 5, 'deepak', 6]"
      ]
     },
     "execution_count": 61,
     "metadata": {},
     "output_type": "execute_result"
    }
   ],
   "source": [
    "l1"
   ]
  },
  {
   "cell_type": "code",
   "execution_count": 62,
   "id": "36e68fac-931b-42b3-acbf-28eba852e7de",
   "metadata": {},
   "outputs": [
    {
     "data": {
      "text/plain": [
       "6"
      ]
     },
     "execution_count": 62,
     "metadata": {},
     "output_type": "execute_result"
    }
   ],
   "source": [
    "# deleteing data from the given list\n",
    "l1.pop()\n",
    "#deleting the data from last"
   ]
  },
  {
   "cell_type": "code",
   "execution_count": 63,
   "id": "dca81b7d-be36-499b-a9db-f39c3fca5ec0",
   "metadata": {},
   "outputs": [
    {
     "data": {
      "text/plain": [
       "[[0], 3, 'shivam', 5, 'deepak']"
      ]
     },
     "execution_count": 63,
     "metadata": {},
     "output_type": "execute_result"
    }
   ],
   "source": [
    "l1"
   ]
  },
  {
   "cell_type": "code",
   "execution_count": 64,
   "id": "2d588fae-e00a-47a8-9b7e-b5a9f76b9d28",
   "metadata": {},
   "outputs": [
    {
     "data": {
      "text/plain": [
       "'shivam'"
      ]
     },
     "execution_count": 64,
     "metadata": {},
     "output_type": "execute_result"
    }
   ],
   "source": [
    "l1.pop(2)"
   ]
  },
  {
   "cell_type": "code",
   "execution_count": 65,
   "id": "691d0148-db44-439d-8e01-68331d6279a2",
   "metadata": {},
   "outputs": [
    {
     "data": {
      "text/plain": [
       "[[0], 3, 5, 'deepak']"
      ]
     },
     "execution_count": 65,
     "metadata": {},
     "output_type": "execute_result"
    }
   ],
   "source": [
    "l1"
   ]
  },
  {
   "cell_type": "code",
   "execution_count": 74,
   "id": "abb4eee0-200d-46b0-af6d-a5a6f34b01b5",
   "metadata": {},
   "outputs": [
    {
     "data": {
      "text/plain": [
       "[3, 5, 'deepak']"
      ]
     },
     "execution_count": 74,
     "metadata": {},
     "output_type": "execute_result"
    }
   ],
   "source": [
    "l1"
   ]
  },
  {
   "cell_type": "code",
   "execution_count": 75,
   "id": "aa58e12d-2738-49db-b631-d7194f3b078d",
   "metadata": {},
   "outputs": [],
   "source": [
    "l1.append([1,2,3,])"
   ]
  },
  {
   "cell_type": "code",
   "execution_count": 76,
   "id": "72182891-8dca-4d71-8e43-49c078010b47",
   "metadata": {},
   "outputs": [
    {
     "data": {
      "text/plain": [
       "[3, 5, 'deepak', [1, 2, 3]]"
      ]
     },
     "execution_count": 76,
     "metadata": {},
     "output_type": "execute_result"
    }
   ],
   "source": [
    "l1"
   ]
  },
  {
   "cell_type": "code",
   "execution_count": 77,
   "id": "8b84ada7-6627-4d2a-a613-48ae3180c39b",
   "metadata": {},
   "outputs": [],
   "source": [
    "l1.remove(3)"
   ]
  },
  {
   "cell_type": "code",
   "execution_count": 78,
   "id": "20f50c01-69e5-4419-8aab-cee21444b261",
   "metadata": {},
   "outputs": [
    {
     "data": {
      "text/plain": [
       "[5, 'deepak', [1, 2, 3]]"
      ]
     },
     "execution_count": 78,
     "metadata": {},
     "output_type": "execute_result"
    }
   ],
   "source": [
    "l1"
   ]
  },
  {
   "cell_type": "code",
   "execution_count": 79,
   "id": "c14146a6-3fe9-4d9a-aa73-8ff1d33af713",
   "metadata": {},
   "outputs": [],
   "source": [
    "l1.reverse()"
   ]
  },
  {
   "cell_type": "code",
   "execution_count": 80,
   "id": "ebd7f776-f57a-4e2e-95d6-b596ac81ac36",
   "metadata": {},
   "outputs": [
    {
     "data": {
      "text/plain": [
       "[[1, 2, 3], 'deepak', 5]"
      ]
     },
     "execution_count": 80,
     "metadata": {},
     "output_type": "execute_result"
    }
   ],
   "source": [
    "l1"
   ]
  },
  {
   "cell_type": "code",
   "execution_count": 82,
   "id": "58d6f59c-3baa-4bdb-b7e9-d04cc435d07d",
   "metadata": {},
   "outputs": [
    {
     "ename": "TypeError",
     "evalue": "'<' not supported between instances of 'str' and 'list'",
     "output_type": "error",
     "traceback": [
      "\u001b[0;31m---------------------------------------------------------------------------\u001b[0m",
      "\u001b[0;31mTypeError\u001b[0m                                 Traceback (most recent call last)",
      "Cell \u001b[0;32mIn[82], line 1\u001b[0m\n\u001b[0;32m----> 1\u001b[0m \u001b[43ml1\u001b[49m\u001b[38;5;241;43m.\u001b[39;49m\u001b[43msort\u001b[49m\u001b[43m(\u001b[49m\u001b[43m)\u001b[49m\n",
      "\u001b[0;31mTypeError\u001b[0m: '<' not supported between instances of 'str' and 'list'"
     ]
    }
   ],
   "source": [
    "l1.sort()"
   ]
  },
  {
   "cell_type": "code",
   "execution_count": 84,
   "id": "a14d79e9-61ec-4ce4-ac45-768c43a44645",
   "metadata": {},
   "outputs": [],
   "source": [
    "l2 = [1,25,634,4,50,6]"
   ]
  },
  {
   "cell_type": "code",
   "execution_count": 85,
   "id": "2b9bcd40-017b-46b7-a8c1-ef4d03551fd4",
   "metadata": {},
   "outputs": [],
   "source": [
    "l2.sort()"
   ]
  },
  {
   "cell_type": "code",
   "execution_count": 86,
   "id": "639d7f39-efd2-4c1d-b41c-aaf1e0988198",
   "metadata": {},
   "outputs": [
    {
     "data": {
      "text/plain": [
       "[1, 4, 6, 25, 50, 634]"
      ]
     },
     "execution_count": 86,
     "metadata": {},
     "output_type": "execute_result"
    }
   ],
   "source": [
    "l2"
   ]
  },
  {
   "cell_type": "code",
   "execution_count": 87,
   "id": "326a84b0-581a-410a-87ea-24aa333fda7f",
   "metadata": {},
   "outputs": [],
   "source": [
    "l3 = [84,\"shivam\",45,21,\"kumar\"]"
   ]
  },
  {
   "cell_type": "code",
   "execution_count": 88,
   "id": "7a279bb9-6db2-4809-a3f3-39dcd9d35d15",
   "metadata": {},
   "outputs": [
    {
     "ename": "TypeError",
     "evalue": "'<' not supported between instances of 'str' and 'int'",
     "output_type": "error",
     "traceback": [
      "\u001b[0;31m---------------------------------------------------------------------------\u001b[0m",
      "\u001b[0;31mTypeError\u001b[0m                                 Traceback (most recent call last)",
      "Cell \u001b[0;32mIn[88], line 1\u001b[0m\n\u001b[0;32m----> 1\u001b[0m \u001b[43ml3\u001b[49m\u001b[38;5;241;43m.\u001b[39;49m\u001b[43msort\u001b[49m\u001b[43m(\u001b[49m\u001b[43m)\u001b[49m\n",
      "\u001b[0;31mTypeError\u001b[0m: '<' not supported between instances of 'str' and 'int'"
     ]
    }
   ],
   "source": [
    "l3.sort()"
   ]
  },
  {
   "cell_type": "code",
   "execution_count": 89,
   "id": "4e425312-c97f-48d0-9d8d-c721a275a297",
   "metadata": {},
   "outputs": [],
   "source": [
    "l4 = [\"shivam\" ,\"rahul\",\"vivek\",\"deepak\"]"
   ]
  },
  {
   "cell_type": "code",
   "execution_count": 90,
   "id": "bf91264d-2f64-472d-aec4-b368cc0b9005",
   "metadata": {},
   "outputs": [],
   "source": [
    "l4.sort()"
   ]
  },
  {
   "cell_type": "code",
   "execution_count": 91,
   "id": "22dda163-daee-4752-af6d-dd33e16c662b",
   "metadata": {},
   "outputs": [
    {
     "data": {
      "text/plain": [
       "['deepak', 'rahul', 'shivam', 'vivek']"
      ]
     },
     "execution_count": 91,
     "metadata": {},
     "output_type": "execute_result"
    }
   ],
   "source": [
    "l4"
   ]
  },
  {
   "cell_type": "code",
   "execution_count": 92,
   "id": "32f1023e-b572-467b-9671-be9d428cf91d",
   "metadata": {},
   "outputs": [
    {
     "data": {
      "text/plain": [
       "2"
      ]
     },
     "execution_count": 92,
     "metadata": {},
     "output_type": "execute_result"
    }
   ],
   "source": [
    "l4.index(\"shivam\")"
   ]
  },
  {
   "cell_type": "code",
   "execution_count": 93,
   "id": "423b9828-c65b-46d5-b9be-11a52ce27c1c",
   "metadata": {},
   "outputs": [
    {
     "data": {
      "text/plain": [
       "1"
      ]
     },
     "execution_count": 93,
     "metadata": {},
     "output_type": "execute_result"
    }
   ],
   "source": [
    "l4.count(\"shivam\")"
   ]
  },
  {
   "cell_type": "code",
   "execution_count": 94,
   "id": "62adb2b0-5b20-4c70-99b8-eb6c132e274f",
   "metadata": {},
   "outputs": [],
   "source": [
    "s = \"shivam\""
   ]
  },
  {
   "cell_type": "code",
   "execution_count": 95,
   "id": "57609912-5e83-424b-8163-38ead561dd97",
   "metadata": {},
   "outputs": [],
   "source": [
    "l5 = [3,5,6,5]"
   ]
  },
  {
   "cell_type": "code",
   "execution_count": 97,
   "id": "af8e3698-d15c-481c-a11c-e06b1ea45f3c",
   "metadata": {},
   "outputs": [
    {
     "ename": "TypeError",
     "evalue": "'str' object does not support item assignment",
     "output_type": "error",
     "traceback": [
      "\u001b[0;31m---------------------------------------------------------------------------\u001b[0m",
      "\u001b[0;31mTypeError\u001b[0m                                 Traceback (most recent call last)",
      "Cell \u001b[0;32mIn[97], line 1\u001b[0m\n\u001b[0;32m----> 1\u001b[0m \u001b[43ms\u001b[49m\u001b[43m[\u001b[49m\u001b[38;5;241;43m0\u001b[39;49m\u001b[43m]\u001b[49m \u001b[38;5;241m=\u001b[39m \u001b[38;5;124m'\u001b[39m\u001b[38;5;124ma\u001b[39m\u001b[38;5;124m'\u001b[39m\n",
      "\u001b[0;31mTypeError\u001b[0m: 'str' object does not support item assignment"
     ]
    }
   ],
   "source": [
    "s[0] = 'a'"
   ]
  },
  {
   "cell_type": "code",
   "execution_count": 98,
   "id": "759ba687-48c9-4d9a-bed5-6546b54a79ef",
   "metadata": {},
   "outputs": [],
   "source": [
    "l5[0] = 30"
   ]
  },
  {
   "cell_type": "code",
   "execution_count": 99,
   "id": "47e78811-b7e2-4ae0-887d-5e43b3ade0cb",
   "metadata": {},
   "outputs": [
    {
     "data": {
      "text/plain": [
       "[30, 5, 6, 5]"
      ]
     },
     "execution_count": 99,
     "metadata": {},
     "output_type": "execute_result"
    }
   ],
   "source": [
    "l5"
   ]
  },
  {
   "cell_type": "code",
   "execution_count": 100,
   "id": "091aa56f-05f6-4f2a-bdbc-80a63586a02e",
   "metadata": {},
   "outputs": [
    {
     "data": {
      "text/plain": [
       "'shivam'"
      ]
     },
     "execution_count": 100,
     "metadata": {},
     "output_type": "execute_result"
    }
   ],
   "source": [
    "s"
   ]
  },
  {
   "cell_type": "code",
   "execution_count": 101,
   "id": "136188a6-b4e9-45c9-b597-cb723e4037c6",
   "metadata": {},
   "outputs": [
    {
     "data": {
      "text/plain": [
       "'ahivam'"
      ]
     },
     "execution_count": 101,
     "metadata": {},
     "output_type": "execute_result"
    }
   ],
   "source": [
    "s.replace('s' , 'a')"
   ]
  },
  {
   "cell_type": "code",
   "execution_count": 102,
   "id": "e4390ccd-8b78-4472-ae88-401e354f1234",
   "metadata": {},
   "outputs": [
    {
     "data": {
      "text/plain": [
       "'shivam'"
      ]
     },
     "execution_count": 102,
     "metadata": {},
     "output_type": "execute_result"
    }
   ],
   "source": [
    "s"
   ]
  },
  {
   "cell_type": "code",
   "execution_count": 103,
   "id": "0bf7072d-afa1-42ce-b450-6c70a9d23f99",
   "metadata": {},
   "outputs": [],
   "source": [
    "# string is unmutable\n",
    "# list is mutable"
   ]
  },
  {
   "cell_type": "code",
   "execution_count": 105,
   "id": "e9d556ca-7740-471b-a525-7557f16e6ddb",
   "metadata": {},
   "outputs": [],
   "source": [
    "# using tuple"
   ]
  },
  {
   "cell_type": "code",
   "execution_count": 106,
   "id": "5a607552-aed2-4fd5-8064-5a900ff378b7",
   "metadata": {},
   "outputs": [],
   "source": [
    "t = (2,5,6,\"shivam\",True,[1,8,5],\"rahul\")"
   ]
  },
  {
   "cell_type": "code",
   "execution_count": 107,
   "id": "a1998f1f-d351-4369-863d-ca9b073bc2f5",
   "metadata": {},
   "outputs": [
    {
     "data": {
      "text/plain": [
       "(2, 5, 6, 'shivam', True, [1, 8, 5], 'rahul')"
      ]
     },
     "execution_count": 107,
     "metadata": {},
     "output_type": "execute_result"
    }
   ],
   "source": [
    "t"
   ]
  },
  {
   "cell_type": "code",
   "execution_count": 108,
   "id": "b177e957-a19e-4537-a9b1-7f074d4494a3",
   "metadata": {},
   "outputs": [
    {
     "data": {
      "text/plain": [
       "tuple"
      ]
     },
     "execution_count": 108,
     "metadata": {},
     "output_type": "execute_result"
    }
   ],
   "source": [
    "type(t)"
   ]
  },
  {
   "cell_type": "code",
   "execution_count": 109,
   "id": "1082cede-c5af-4de0-b6d5-a76b4ab1f59e",
   "metadata": {},
   "outputs": [
    {
     "data": {
      "text/plain": [
       "7"
      ]
     },
     "execution_count": 109,
     "metadata": {},
     "output_type": "execute_result"
    }
   ],
   "source": [
    "len(t)"
   ]
  },
  {
   "cell_type": "code",
   "execution_count": 110,
   "id": "c58717ff-d913-4007-a6d4-5765af5a5273",
   "metadata": {},
   "outputs": [
    {
     "data": {
      "text/plain": [
       "2"
      ]
     },
     "execution_count": 110,
     "metadata": {},
     "output_type": "execute_result"
    }
   ],
   "source": [
    "t[0]"
   ]
  },
  {
   "cell_type": "code",
   "execution_count": 111,
   "id": "8d2171f4-b46d-4669-b105-dc232c34d57e",
   "metadata": {},
   "outputs": [
    {
     "data": {
      "text/plain": [
       "('rahul', [1, 8, 5], True, 'shivam', 6, 5, 2)"
      ]
     },
     "execution_count": 111,
     "metadata": {},
     "output_type": "execute_result"
    }
   ],
   "source": [
    "t[::-1]"
   ]
  },
  {
   "cell_type": "code",
   "execution_count": 113,
   "id": "98f83839-04fd-48e2-b426-744153bb864b",
   "metadata": {},
   "outputs": [
    {
     "data": {
      "text/plain": [
       "['deepak', 'rahul', 'shivam', 'vivek']"
      ]
     },
     "execution_count": 113,
     "metadata": {},
     "output_type": "execute_result"
    }
   ],
   "source": [
    "l4"
   ]
  },
  {
   "cell_type": "code",
   "execution_count": 114,
   "id": "f62347e9-8f09-45fd-ac52-d9585d04a918",
   "metadata": {},
   "outputs": [],
   "source": [
    "l4[0] = \"rohan\""
   ]
  },
  {
   "cell_type": "code",
   "execution_count": 115,
   "id": "b78b4224-d10f-4936-9ee6-9eaea8bff423",
   "metadata": {},
   "outputs": [
    {
     "data": {
      "text/plain": [
       "['rohan', 'rahul', 'shivam', 'vivek']"
      ]
     },
     "execution_count": 115,
     "metadata": {},
     "output_type": "execute_result"
    }
   ],
   "source": [
    "l4"
   ]
  },
  {
   "cell_type": "code",
   "execution_count": 116,
   "id": "fa10f0f7-1d52-45c4-8663-3467b0d7f089",
   "metadata": {},
   "outputs": [],
   "source": [
    "#difference between list and tuple is : tuble are inmutable and list is mutable "
   ]
  },
  {
   "cell_type": "code",
   "execution_count": 118,
   "id": "2f4eb66a-2346-4901-92a8-d7f6bc0dfcca",
   "metadata": {},
   "outputs": [
    {
     "data": {
      "text/plain": [
       "('rahul', [1, 8, 5], True, 'shivam', 6, 5, 2)"
      ]
     },
     "execution_count": 118,
     "metadata": {},
     "output_type": "execute_result"
    }
   ],
   "source": [
    "t[::-1]"
   ]
  },
  {
   "cell_type": "code",
   "execution_count": 120,
   "id": "4f5a1157-0069-46ca-81cd-6f375565295a",
   "metadata": {},
   "outputs": [
    {
     "data": {
      "text/plain": [
       "1"
      ]
     },
     "execution_count": 120,
     "metadata": {},
     "output_type": "execute_result"
    }
   ],
   "source": [
    "t.count(5)"
   ]
  },
  {
   "cell_type": "code",
   "execution_count": 121,
   "id": "7524ba33-a8fb-4c98-a66c-85862b1c4073",
   "metadata": {},
   "outputs": [
    {
     "data": {
      "text/plain": [
       "4"
      ]
     },
     "execution_count": 121,
     "metadata": {},
     "output_type": "execute_result"
    }
   ],
   "source": [
    "t.index(True)"
   ]
  },
  {
   "cell_type": "code",
   "execution_count": 122,
   "id": "e5efa8c9-833c-4f86-a1fd-f9e2c86bbad8",
   "metadata": {},
   "outputs": [],
   "source": [
    "# set\n"
   ]
  },
  {
   "cell_type": "code",
   "execution_count": 123,
   "id": "41f7db3d-60f8-46dc-a95f-c6f8d6fc17e1",
   "metadata": {},
   "outputs": [],
   "source": [
    "s1 = {}"
   ]
  },
  {
   "cell_type": "code",
   "execution_count": 124,
   "id": "282c622e-88bc-4894-82a2-ca4051ab7000",
   "metadata": {},
   "outputs": [
    {
     "data": {
      "text/plain": [
       "dict"
      ]
     },
     "execution_count": 124,
     "metadata": {},
     "output_type": "execute_result"
    }
   ],
   "source": [
    "type(s1)"
   ]
  },
  {
   "cell_type": "code",
   "execution_count": 125,
   "id": "822ecb7b-3d7c-41bc-a4d2-4299b912d6a8",
   "metadata": {},
   "outputs": [],
   "source": [
    "s2 = {2,5,6,6}"
   ]
  },
  {
   "cell_type": "code",
   "execution_count": 126,
   "id": "45b38ece-a92f-4233-ad6c-753f7d4bd6b2",
   "metadata": {},
   "outputs": [
    {
     "data": {
      "text/plain": [
       "set"
      ]
     },
     "execution_count": 126,
     "metadata": {},
     "output_type": "execute_result"
    }
   ],
   "source": [
    "type(s2)"
   ]
  },
  {
   "cell_type": "code",
   "execution_count": 127,
   "id": "7e04dab7-d6f5-4073-bb84-cb26a3dbfccc",
   "metadata": {},
   "outputs": [],
   "source": [
    "s3 = {25,4,5,58, \"shivam\" , True ,58.58,(5,8,5)}"
   ]
  },
  {
   "cell_type": "code",
   "execution_count": 128,
   "id": "727314e6-7ce0-4b58-8876-663f4315f67d",
   "metadata": {},
   "outputs": [
    {
     "data": {
      "text/plain": [
       "{(5, 8, 5), 25, 4, 5, 58, 58.58, True, 'shivam'}"
      ]
     },
     "execution_count": 128,
     "metadata": {},
     "output_type": "execute_result"
    }
   ],
   "source": [
    "s3"
   ]
  },
  {
   "cell_type": "code",
   "execution_count": 131,
   "id": "9620b608-24c4-4e12-95cf-10db95026d08",
   "metadata": {},
   "outputs": [],
   "source": [
    "s4 = {1,1,2,5,2,5,6,6,22,2,2,3,3,8,8,5,5,5, \"shivam\" ,\"shivam\"}\n",
    "#set remove dublicates"
   ]
  },
  {
   "cell_type": "code",
   "execution_count": 132,
   "id": "a2fb3a2b-4e0e-4088-a10b-01306bd93df0",
   "metadata": {},
   "outputs": [
    {
     "data": {
      "text/plain": [
       "{1, 2, 22, 3, 5, 6, 8, 'shivam'}"
      ]
     },
     "execution_count": 132,
     "metadata": {},
     "output_type": "execute_result"
    }
   ],
   "source": [
    "s4"
   ]
  },
  {
   "cell_type": "code",
   "execution_count": 134,
   "id": "124289a9-3ef3-4c49-bafc-9af3393d0b24",
   "metadata": {},
   "outputs": [],
   "source": [
    "l5 = [2,2,2,5,5,4,4,7,8,9,6,6,6,5,8,4,4,2,2]"
   ]
  },
  {
   "cell_type": "code",
   "execution_count": 136,
   "id": "bb9ffcad-ea2b-4364-9478-4c93186ea017",
   "metadata": {},
   "outputs": [
    {
     "data": {
      "text/plain": [
       "{2, 4, 5, 6, 7, 8, 9}"
      ]
     },
     "execution_count": 136,
     "metadata": {},
     "output_type": "execute_result"
    }
   ],
   "source": [
    "set(l5)"
   ]
  },
  {
   "cell_type": "code",
   "execution_count": 137,
   "id": "dad9362c-f908-49fa-8aab-0b13edc7452a",
   "metadata": {},
   "outputs": [],
   "source": [
    "l5 = list(set(l5))\n",
    "#typecasting"
   ]
  },
  {
   "cell_type": "code",
   "execution_count": 138,
   "id": "703775f8-5049-47fd-abe9-60c7e6c6bbe2",
   "metadata": {},
   "outputs": [
    {
     "data": {
      "text/plain": [
       "[2, 4, 5, 6, 7, 8, 9]"
      ]
     },
     "execution_count": 138,
     "metadata": {},
     "output_type": "execute_result"
    }
   ],
   "source": [
    "l5"
   ]
  },
  {
   "cell_type": "code",
   "execution_count": 140,
   "id": "2f509e9b-bcd4-4ef9-8757-9753383d7e86",
   "metadata": {},
   "outputs": [],
   "source": [
    "s6 = {555,5,68,5,5 ,\"vivek\",584.55}"
   ]
  },
  {
   "cell_type": "code",
   "execution_count": 142,
   "id": "92a8e84e-c867-40ab-b2f9-e768b43ffaf8",
   "metadata": {},
   "outputs": [
    {
     "data": {
      "text/plain": [
       "{5, 555, 584.55, 68, 'vivek'}"
      ]
     },
     "execution_count": 142,
     "metadata": {},
     "output_type": "execute_result"
    }
   ],
   "source": [
    "s6"
   ]
  },
  {
   "cell_type": "code",
   "execution_count": 143,
   "id": "7de64e9d-bd2d-44ea-af98-d351aeae44be",
   "metadata": {},
   "outputs": [],
   "source": [
    "#incase of sliecing and indexing is not working in set"
   ]
  },
  {
   "cell_type": "code",
   "execution_count": 144,
   "id": "4f9f3494-acd2-4be9-9f58-cad3d7d2d42c",
   "metadata": {},
   "outputs": [],
   "source": [
    "s6.add(5)"
   ]
  },
  {
   "cell_type": "code",
   "execution_count": 145,
   "id": "cfda9fca-b618-4af5-99b6-31537d9cf8fc",
   "metadata": {},
   "outputs": [
    {
     "data": {
      "text/plain": [
       "{5, 555, 584.55, 68, 'vivek'}"
      ]
     },
     "execution_count": 145,
     "metadata": {},
     "output_type": "execute_result"
    }
   ],
   "source": [
    "s6"
   ]
  },
  {
   "cell_type": "code",
   "execution_count": 146,
   "id": "1c10cdfc-aa8d-427d-a545-1986c58da8c0",
   "metadata": {},
   "outputs": [],
   "source": [
    "s6.add(2222)"
   ]
  },
  {
   "cell_type": "code",
   "execution_count": 147,
   "id": "e71cf06d-6388-44c9-b16c-7769ad253a1d",
   "metadata": {},
   "outputs": [
    {
     "data": {
      "text/plain": [
       "{2222, 5, 555, 584.55, 68, 'vivek'}"
      ]
     },
     "execution_count": 147,
     "metadata": {},
     "output_type": "execute_result"
    }
   ],
   "source": [
    "s6"
   ]
  },
  {
   "cell_type": "code",
   "execution_count": 148,
   "id": "3bc6fe3d-6ee0-4e48-b6dc-fe3b3a3e54f1",
   "metadata": {},
   "outputs": [],
   "source": [
    "s6.remove(68)"
   ]
  },
  {
   "cell_type": "code",
   "execution_count": 149,
   "id": "30aea519-378d-4279-b449-6c10955ee928",
   "metadata": {},
   "outputs": [
    {
     "data": {
      "text/plain": [
       "{2222, 5, 555, 584.55, 'vivek'}"
      ]
     },
     "execution_count": 149,
     "metadata": {},
     "output_type": "execute_result"
    }
   ],
   "source": [
    "s6"
   ]
  },
  {
   "cell_type": "code",
   "execution_count": null,
   "id": "6914061a-77f0-4177-92f4-95be6312e214",
   "metadata": {},
   "outputs": [],
   "source": []
  }
 ],
 "metadata": {
  "kernelspec": {
   "display_name": "Python 3 (ipykernel)",
   "language": "python",
   "name": "python3"
  },
  "language_info": {
   "codemirror_mode": {
    "name": "ipython",
    "version": 3
   },
   "file_extension": ".py",
   "mimetype": "text/x-python",
   "name": "python",
   "nbconvert_exporter": "python",
   "pygments_lexer": "ipython3",
   "version": "3.10.8"
  }
 },
 "nbformat": 4,
 "nbformat_minor": 5
}
